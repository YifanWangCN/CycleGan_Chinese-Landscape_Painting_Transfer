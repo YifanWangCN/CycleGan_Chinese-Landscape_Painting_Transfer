{
 "cells": [
  {
   "cell_type": "code",
   "execution_count": 1,
   "id": "9054a356",
   "metadata": {},
   "outputs": [],
   "source": [
    "import torch\n",
    "import torch.nn as nn\n",
    "import torch.optim as optim\n",
    "import torchvision.transforms as transforms # 将图片转化为张量形式\n",
    "import torchvision.models as models # 用来加载已经训练好的VGG19\n",
    "\n",
    "from PIL import Image    # 用来读取图片\n",
    "from torchvision.utils import save_image # 用来存储突破"
   ]
  },
  {
   "cell_type": "markdown",
   "id": "44602482",
   "metadata": {},
   "source": [
    "### 1： 该模型用到了预先训练好的VGG19模型，并且在任务中该卷积模型的参数是固定的"
   ]
  },
  {
   "cell_type": "code",
   "execution_count": 2,
   "id": "a1d73731",
   "metadata": {},
   "outputs": [
    {
     "name": "stdout",
     "output_type": "stream",
     "text": [
      "Sequential(\n",
      "  (0): Conv2d(3, 64, kernel_size=(3, 3), stride=(1, 1), padding=(1, 1))\n",
      "  (1): ReLU(inplace=True)\n",
      "  (2): Conv2d(64, 64, kernel_size=(3, 3), stride=(1, 1), padding=(1, 1))\n",
      "  (3): ReLU(inplace=True)\n",
      "  (4): MaxPool2d(kernel_size=2, stride=2, padding=0, dilation=1, ceil_mode=False)\n",
      "  (5): Conv2d(64, 128, kernel_size=(3, 3), stride=(1, 1), padding=(1, 1))\n",
      "  (6): ReLU(inplace=True)\n",
      "  (7): Conv2d(128, 128, kernel_size=(3, 3), stride=(1, 1), padding=(1, 1))\n",
      "  (8): ReLU(inplace=True)\n",
      "  (9): MaxPool2d(kernel_size=2, stride=2, padding=0, dilation=1, ceil_mode=False)\n",
      "  (10): Conv2d(128, 256, kernel_size=(3, 3), stride=(1, 1), padding=(1, 1))\n",
      "  (11): ReLU(inplace=True)\n",
      "  (12): Conv2d(256, 256, kernel_size=(3, 3), stride=(1, 1), padding=(1, 1))\n",
      "  (13): ReLU(inplace=True)\n",
      "  (14): Conv2d(256, 256, kernel_size=(3, 3), stride=(1, 1), padding=(1, 1))\n",
      "  (15): ReLU(inplace=True)\n",
      "  (16): Conv2d(256, 256, kernel_size=(3, 3), stride=(1, 1), padding=(1, 1))\n",
      "  (17): ReLU(inplace=True)\n",
      "  (18): MaxPool2d(kernel_size=2, stride=2, padding=0, dilation=1, ceil_mode=False)\n",
      "  (19): Conv2d(256, 512, kernel_size=(3, 3), stride=(1, 1), padding=(1, 1))\n",
      "  (20): ReLU(inplace=True)\n",
      "  (21): Conv2d(512, 512, kernel_size=(3, 3), stride=(1, 1), padding=(1, 1))\n",
      "  (22): ReLU(inplace=True)\n",
      "  (23): Conv2d(512, 512, kernel_size=(3, 3), stride=(1, 1), padding=(1, 1))\n",
      "  (24): ReLU(inplace=True)\n",
      "  (25): Conv2d(512, 512, kernel_size=(3, 3), stride=(1, 1), padding=(1, 1))\n",
      "  (26): ReLU(inplace=True)\n",
      "  (27): MaxPool2d(kernel_size=2, stride=2, padding=0, dilation=1, ceil_mode=False)\n",
      "  (28): Conv2d(512, 512, kernel_size=(3, 3), stride=(1, 1), padding=(1, 1))\n",
      "  (29): ReLU(inplace=True)\n",
      "  (30): Conv2d(512, 512, kernel_size=(3, 3), stride=(1, 1), padding=(1, 1))\n",
      "  (31): ReLU(inplace=True)\n",
      "  (32): Conv2d(512, 512, kernel_size=(3, 3), stride=(1, 1), padding=(1, 1))\n",
      "  (33): ReLU(inplace=True)\n",
      "  (34): Conv2d(512, 512, kernel_size=(3, 3), stride=(1, 1), padding=(1, 1))\n",
      "  (35): ReLU(inplace=True)\n",
      "  (36): MaxPool2d(kernel_size=2, stride=2, padding=0, dilation=1, ceil_mode=False)\n",
      ")\n"
     ]
    }
   ],
   "source": [
    "model =models.vgg19(pretrained=True).features\n",
    "print(model)"
   ]
  },
  {
   "cell_type": "markdown",
   "id": "e2d9b5b5",
   "metadata": {},
   "source": [
    "从上面可以看到VGG19一共有36层，对content 和 style 来说 只要选择其中的五层即可 我们按论文中写的选择的是[0,5,10,19,28]"
   ]
  },
  {
   "cell_type": "code",
   "execution_count": 3,
   "id": "7520e471",
   "metadata": {},
   "outputs": [
    {
     "name": "stdout",
     "output_type": "stream",
     "text": [
      "Conv2d(512, 512, kernel_size=(3, 3), stride=(1, 1), padding=(1, 1))\n"
     ]
    }
   ],
   "source": [
    "# 打印其中的一层可以看到它的结构是如何的\n",
    "print(model[(28)])"
   ]
  },
  {
   "cell_type": "markdown",
   "id": "1157cb60",
   "metadata": {},
   "source": [
    "### 下面写一个方法，该方法能够直接得到对应输入的五个输出特征"
   ]
  },
  {
   "cell_type": "code",
   "execution_count": 4,
   "id": "c7b03b44",
   "metadata": {},
   "outputs": [],
   "source": [
    "class VGG(nn.Module):\n",
    "    def __init__(self):\n",
    "        super().__init__()\n",
    "        \n",
    "        self.chosen_features = [0,5,10,19,28]\n",
    "        self.model = models.vgg19(pretrained=True).features[:29]  # 该网络的28层后面层去我们一点关系都没有了\n",
    "        \n",
    "    \n",
    "    def forward(self,x):\n",
    "        \n",
    "        features = []\n",
    "        \n",
    "        for layer_num, layer in enumerate(self.model):\n",
    "            x = layer(x)\n",
    "            if layer_num in self.chosen_features:\n",
    "                features.append(x)\n",
    "                \n",
    "        return features"
   ]
  },
  {
   "cell_type": "markdown",
   "id": "ba2d6760",
   "metadata": {},
   "source": [
    "### 2：加载数据集，主要是对content image 和 style image的图片进行预处理"
   ]
  },
  {
   "cell_type": "code",
   "execution_count": 5,
   "id": "afbff0aa",
   "metadata": {},
   "outputs": [],
   "source": [
    "loader = transforms.Compose(\n",
    "    [\n",
    "        transforms.Resize((356,356)),\n",
    "        transforms.ToTensor()\n",
    "    ]\n",
    ")"
   ]
  },
  {
   "cell_type": "code",
   "execution_count": 6,
   "id": "bb5cdd7c",
   "metadata": {},
   "outputs": [],
   "source": [
    "def load_image(image_name):\n",
    "    image = Image.open(image_name)\n",
    "    image = loader(image).unsqueeze(0) # 该方法将张量从3维变成4维的，满足网络模型输入参数的输入条件\n",
    "    \n",
    "    return image.to(device)"
   ]
  },
  {
   "cell_type": "code",
   "execution_count": 7,
   "id": "8d526ee6",
   "metadata": {},
   "outputs": [
    {
     "name": "stdout",
     "output_type": "stream",
     "text": [
      "cuda\n"
     ]
    }
   ],
   "source": [
    "device = torch.device(\"cuda\" if torch.cuda.is_available else \"cpu\")\n",
    "print(device)"
   ]
  },
  {
   "cell_type": "code",
   "execution_count": 8,
   "id": "0dbdb66a",
   "metadata": {},
   "outputs": [],
   "source": [
    "content_image = load_image(\"content_image/face.jpg\")\n",
    "style_image = load_image(\"style_image/scream.jpg\")"
   ]
  },
  {
   "cell_type": "code",
   "execution_count": 9,
   "id": "af2da618",
   "metadata": {},
   "outputs": [
    {
     "name": "stdout",
     "output_type": "stream",
     "text": [
      "torch.Size([1, 3, 356, 356])\n",
      "torch.Size([1, 3, 356, 356])\n"
     ]
    }
   ],
   "source": [
    "print(content_image.shape)\n",
    "print(style_image.shape)"
   ]
  },
  {
   "cell_type": "markdown",
   "id": "4d19caa7",
   "metadata": {},
   "source": [
    "###  模型初始化"
   ]
  },
  {
   "cell_type": "code",
   "execution_count": 10,
   "id": "10c8dfad",
   "metadata": {},
   "outputs": [],
   "source": [
    "# 超参数的设计\n",
    "total_steps = 30000\n",
    "learning_rate = 0.001\n",
    "alpha = 0.00001\n",
    "bate = 1\n",
    "\n",
    "Model = VGG().to(device).eval()\n",
    "generated = content_image.clone().requires_grad_(True)\n",
    "optimizer = optim.Adam([generated],lr=learning_rate)"
   ]
  },
  {
   "cell_type": "markdown",
   "id": "c4b014c4",
   "metadata": {},
   "source": [
    "### 模型训练"
   ]
  },
  {
   "cell_type": "code",
   "execution_count": 11,
   "id": "41d0166a",
   "metadata": {},
   "outputs": [
    {
     "name": "stderr",
     "output_type": "stream",
     "text": [
      "D:\\Tools\\miniConda\\envs\\gan\\lib\\site-packages\\torch\\nn\\functional.py:718: UserWarning: Named tensors and all their associated APIs are an experimental feature and subject to change. Please do not use them for anything important until they are released as stable. (Triggered internally at  ..\\c10/core/TensorImpl.h:1156.)\n",
      "  return torch.max_pool2d(input, kernel_size, stride, padding, dilation, ceil_mode)\n"
     ]
    },
    {
     "name": "stdout",
     "output_type": "stream",
     "text": [
      "tensor(0., device='cuda:0', grad_fn=<AddBackward0>) tensor(19342456., device='cuda:0', grad_fn=<AddBackward0>) tensor(19342456., device='cuda:0', grad_fn=<AddBackward0>)\n",
      "tensor(8.7201, device='cuda:0', grad_fn=<AddBackward0>) tensor(938137.1250, device='cuda:0', grad_fn=<AddBackward0>) tensor(938137.1250, device='cuda:0', grad_fn=<AddBackward0>)\n",
      "tensor(9.6784, device='cuda:0', grad_fn=<AddBackward0>) tensor(453304.5938, device='cuda:0', grad_fn=<AddBackward0>) tensor(453304.5938, device='cuda:0', grad_fn=<AddBackward0>)\n",
      "tensor(10.2044, device='cuda:0', grad_fn=<AddBackward0>) tensor(301531.4062, device='cuda:0', grad_fn=<AddBackward0>) tensor(301531.4062, device='cuda:0', grad_fn=<AddBackward0>)\n",
      "tensor(10.5482, device='cuda:0', grad_fn=<AddBackward0>) tensor(234170.8281, device='cuda:0', grad_fn=<AddBackward0>) tensor(234170.8281, device='cuda:0', grad_fn=<AddBackward0>)\n",
      "tensor(10.8156, device='cuda:0', grad_fn=<AddBackward0>) tensor(193809.7188, device='cuda:0', grad_fn=<AddBackward0>) tensor(193809.7188, device='cuda:0', grad_fn=<AddBackward0>)\n",
      "tensor(11.0170, device='cuda:0', grad_fn=<AddBackward0>) tensor(166316.0625, device='cuda:0', grad_fn=<AddBackward0>) tensor(166316.0625, device='cuda:0', grad_fn=<AddBackward0>)\n",
      "tensor(11.2008, device='cuda:0', grad_fn=<AddBackward0>) tensor(146209.3906, device='cuda:0', grad_fn=<AddBackward0>) tensor(146209.3906, device='cuda:0', grad_fn=<AddBackward0>)\n",
      "tensor(11.3762, device='cuda:0', grad_fn=<AddBackward0>) tensor(130672.9531, device='cuda:0', grad_fn=<AddBackward0>) tensor(130672.9531, device='cuda:0', grad_fn=<AddBackward0>)\n",
      "tensor(11.5312, device='cuda:0', grad_fn=<AddBackward0>) tensor(118277.8594, device='cuda:0', grad_fn=<AddBackward0>) tensor(118277.8594, device='cuda:0', grad_fn=<AddBackward0>)\n",
      "tensor(11.6588, device='cuda:0', grad_fn=<AddBackward0>) tensor(108007.4844, device='cuda:0', grad_fn=<AddBackward0>) tensor(108007.4844, device='cuda:0', grad_fn=<AddBackward0>)\n",
      "tensor(11.7747, device='cuda:0', grad_fn=<AddBackward0>) tensor(99272.6094, device='cuda:0', grad_fn=<AddBackward0>) tensor(99272.6094, device='cuda:0', grad_fn=<AddBackward0>)\n",
      "tensor(11.8844, device='cuda:0', grad_fn=<AddBackward0>) tensor(91731.9844, device='cuda:0', grad_fn=<AddBackward0>) tensor(91731.9844, device='cuda:0', grad_fn=<AddBackward0>)\n",
      "tensor(11.9787, device='cuda:0', grad_fn=<AddBackward0>) tensor(85187.4688, device='cuda:0', grad_fn=<AddBackward0>) tensor(85187.4688, device='cuda:0', grad_fn=<AddBackward0>)\n",
      "tensor(12.0696, device='cuda:0', grad_fn=<AddBackward0>) tensor(79397.4531, device='cuda:0', grad_fn=<AddBackward0>) tensor(79397.4531, device='cuda:0', grad_fn=<AddBackward0>)\n",
      "tensor(12.1623, device='cuda:0', grad_fn=<AddBackward0>) tensor(74171.7422, device='cuda:0', grad_fn=<AddBackward0>) tensor(74171.7422, device='cuda:0', grad_fn=<AddBackward0>)\n",
      "tensor(12.2389, device='cuda:0', grad_fn=<AddBackward0>) tensor(69415., device='cuda:0', grad_fn=<AddBackward0>) tensor(69415., device='cuda:0', grad_fn=<AddBackward0>)\n",
      "tensor(12.3289, device='cuda:0', grad_fn=<AddBackward0>) tensor(65072.7969, device='cuda:0', grad_fn=<AddBackward0>) tensor(65072.7969, device='cuda:0', grad_fn=<AddBackward0>)\n",
      "tensor(12.4021, device='cuda:0', grad_fn=<AddBackward0>) tensor(61142.5859, device='cuda:0', grad_fn=<AddBackward0>) tensor(61142.5859, device='cuda:0', grad_fn=<AddBackward0>)\n",
      "tensor(12.4794, device='cuda:0', grad_fn=<AddBackward0>) tensor(57544.7969, device='cuda:0', grad_fn=<AddBackward0>) tensor(57544.7969, device='cuda:0', grad_fn=<AddBackward0>)\n",
      "tensor(12.5410, device='cuda:0', grad_fn=<AddBackward0>) tensor(54249.1836, device='cuda:0', grad_fn=<AddBackward0>) tensor(54249.1836, device='cuda:0', grad_fn=<AddBackward0>)\n",
      "tensor(12.6021, device='cuda:0', grad_fn=<AddBackward0>) tensor(51241.5820, device='cuda:0', grad_fn=<AddBackward0>) tensor(51241.5820, device='cuda:0', grad_fn=<AddBackward0>)\n",
      "tensor(12.6697, device='cuda:0', grad_fn=<AddBackward0>) tensor(48464.7656, device='cuda:0', grad_fn=<AddBackward0>) tensor(48464.7656, device='cuda:0', grad_fn=<AddBackward0>)\n",
      "tensor(12.7243, device='cuda:0', grad_fn=<AddBackward0>) tensor(45845.8594, device='cuda:0', grad_fn=<AddBackward0>) tensor(45845.8594, device='cuda:0', grad_fn=<AddBackward0>)\n",
      "tensor(12.7623, device='cuda:0', grad_fn=<AddBackward0>) tensor(43439.1914, device='cuda:0', grad_fn=<AddBackward0>) tensor(43439.1914, device='cuda:0', grad_fn=<AddBackward0>)\n",
      "tensor(12.8196, device='cuda:0', grad_fn=<AddBackward0>) tensor(41173.5547, device='cuda:0', grad_fn=<AddBackward0>) tensor(41173.5547, device='cuda:0', grad_fn=<AddBackward0>)\n",
      "tensor(12.8444, device='cuda:0', grad_fn=<AddBackward0>) tensor(39191.2305, device='cuda:0', grad_fn=<AddBackward0>) tensor(39191.2305, device='cuda:0', grad_fn=<AddBackward0>)\n",
      "tensor(12.9031, device='cuda:0', grad_fn=<AddBackward0>) tensor(37349.7266, device='cuda:0', grad_fn=<AddBackward0>) tensor(37349.7266, device='cuda:0', grad_fn=<AddBackward0>)\n",
      "tensor(12.9300, device='cuda:0', grad_fn=<AddBackward0>) tensor(35547.1680, device='cuda:0', grad_fn=<AddBackward0>) tensor(35547.1680, device='cuda:0', grad_fn=<AddBackward0>)\n",
      "tensor(12.9820, device='cuda:0', grad_fn=<AddBackward0>) tensor(34010.8906, device='cuda:0', grad_fn=<AddBackward0>) tensor(34010.8906, device='cuda:0', grad_fn=<AddBackward0>)\n",
      "tensor(13.0291, device='cuda:0', grad_fn=<AddBackward0>) tensor(32601.5703, device='cuda:0', grad_fn=<AddBackward0>) tensor(32601.5723, device='cuda:0', grad_fn=<AddBackward0>)\n",
      "tensor(13.0563, device='cuda:0', grad_fn=<AddBackward0>) tensor(31226.0176, device='cuda:0', grad_fn=<AddBackward0>) tensor(31226.0195, device='cuda:0', grad_fn=<AddBackward0>)\n",
      "tensor(13.0817, device='cuda:0', grad_fn=<AddBackward0>) tensor(29914.2930, device='cuda:0', grad_fn=<AddBackward0>) tensor(29914.2949, device='cuda:0', grad_fn=<AddBackward0>)\n",
      "tensor(13.1239, device='cuda:0', grad_fn=<AddBackward0>) tensor(28869.5371, device='cuda:0', grad_fn=<AddBackward0>) tensor(28869.5391, device='cuda:0', grad_fn=<AddBackward0>)\n",
      "tensor(13.1292, device='cuda:0', grad_fn=<AddBackward0>) tensor(27864.8477, device='cuda:0', grad_fn=<AddBackward0>) tensor(27864.8496, device='cuda:0', grad_fn=<AddBackward0>)\n",
      "tensor(13.1537, device='cuda:0', grad_fn=<AddBackward0>) tensor(26948.5469, device='cuda:0', grad_fn=<AddBackward0>) tensor(26948.5488, device='cuda:0', grad_fn=<AddBackward0>)\n",
      "tensor(13.1939, device='cuda:0', grad_fn=<AddBackward0>) tensor(26128.1445, device='cuda:0', grad_fn=<AddBackward0>) tensor(26128.1465, device='cuda:0', grad_fn=<AddBackward0>)\n",
      "tensor(13.2152, device='cuda:0', grad_fn=<AddBackward0>) tensor(25243.2305, device='cuda:0', grad_fn=<AddBackward0>) tensor(25243.2324, device='cuda:0', grad_fn=<AddBackward0>)\n",
      "tensor(13.2462, device='cuda:0', grad_fn=<AddBackward0>) tensor(24722.2266, device='cuda:0', grad_fn=<AddBackward0>) tensor(24722.2285, device='cuda:0', grad_fn=<AddBackward0>)\n",
      "tensor(13.2428, device='cuda:0', grad_fn=<AddBackward0>) tensor(23893.2969, device='cuda:0', grad_fn=<AddBackward0>) tensor(23893.2988, device='cuda:0', grad_fn=<AddBackward0>)\n",
      "tensor(13.2789, device='cuda:0', grad_fn=<AddBackward0>) tensor(23279.4258, device='cuda:0', grad_fn=<AddBackward0>) tensor(23279.4277, device='cuda:0', grad_fn=<AddBackward0>)\n",
      "tensor(13.2926, device='cuda:0', grad_fn=<AddBackward0>) tensor(22690.4609, device='cuda:0', grad_fn=<AddBackward0>) tensor(22690.4629, device='cuda:0', grad_fn=<AddBackward0>)\n",
      "tensor(13.3128, device='cuda:0', grad_fn=<AddBackward0>) tensor(22198.4727, device='cuda:0', grad_fn=<AddBackward0>) tensor(22198.4746, device='cuda:0', grad_fn=<AddBackward0>)\n",
      "tensor(13.3180, device='cuda:0', grad_fn=<AddBackward0>) tensor(21767.9297, device='cuda:0', grad_fn=<AddBackward0>) tensor(21767.9316, device='cuda:0', grad_fn=<AddBackward0>)\n",
      "tensor(13.3466, device='cuda:0', grad_fn=<AddBackward0>) tensor(21354.9492, device='cuda:0', grad_fn=<AddBackward0>) tensor(21354.9512, device='cuda:0', grad_fn=<AddBackward0>)\n",
      "tensor(13.3611, device='cuda:0', grad_fn=<AddBackward0>) tensor(20968.7988, device='cuda:0', grad_fn=<AddBackward0>) tensor(20968.8008, device='cuda:0', grad_fn=<AddBackward0>)\n",
      "tensor(13.3692, device='cuda:0', grad_fn=<AddBackward0>) tensor(20578.7559, device='cuda:0', grad_fn=<AddBackward0>) tensor(20578.7578, device='cuda:0', grad_fn=<AddBackward0>)\n"
     ]
    },
    {
     "name": "stdout",
     "output_type": "stream",
     "text": [
      "tensor(13.3871, device='cuda:0', grad_fn=<AddBackward0>) tensor(20249.5000, device='cuda:0', grad_fn=<AddBackward0>) tensor(20249.5020, device='cuda:0', grad_fn=<AddBackward0>)\n",
      "tensor(13.3985, device='cuda:0', grad_fn=<AddBackward0>) tensor(20034.4062, device='cuda:0', grad_fn=<AddBackward0>) tensor(20034.4082, device='cuda:0', grad_fn=<AddBackward0>)\n",
      "tensor(13.4186, device='cuda:0', grad_fn=<AddBackward0>) tensor(19704.7109, device='cuda:0', grad_fn=<AddBackward0>) tensor(19704.7129, device='cuda:0', grad_fn=<AddBackward0>)\n"
     ]
    }
   ],
   "source": [
    "for step in range(total_steps):\n",
    "    \n",
    "    content_loss = 0\n",
    "    style_loss = 0\n",
    "    \n",
    "    generated_features = Model(generated)\n",
    "    content_features = Model(content_image)\n",
    "    style_features = Model(style_image)\n",
    "    \n",
    "    for gen_feature,content_feature,style_feature in zip(generated_features,content_features,style_features):\n",
    "        batch_size,channel,height,width = gen_feature.shape\n",
    "        \n",
    "        # 先计算content loss\n",
    "        content_loss += torch.mean((gen_feature-content_feature)**2)\n",
    "        \n",
    "        \n",
    "        # 后计算style loss 用gram矩阵\n",
    "        G = gen_feature.view(channel,height*width).mm(gen_feature.view(channel,height*width).t())\n",
    "        S = style_feature.view(channel,height*width).mm(style_feature.view(channel,height*width).t())\n",
    "        style_loss += torch.mean((G-S)**2)\n",
    "        \n",
    "    total_loss = alpha*content_loss+bate*style_loss\n",
    "    \n",
    "    optimizer.zero_grad()\n",
    "    total_loss.backward()\n",
    "    optimizer.step()\n",
    "    \n",
    "    if step % 200 == 0:\n",
    "        print(content_loss,style_loss,total_loss)\n",
    "        save_image(generated,\"face\" + f\"/gen_{step}.png\")"
   ]
  }
 ],
 "metadata": {
  "kernelspec": {
   "display_name": "Python 3 (ipykernel)",
   "language": "python",
   "name": "python3"
  },
  "language_info": {
   "codemirror_mode": {
    "name": "ipython",
    "version": 3
   },
   "file_extension": ".py",
   "mimetype": "text/x-python",
   "name": "python",
   "nbconvert_exporter": "python",
   "pygments_lexer": "ipython3",
   "version": "3.8.0"
  }
 },
 "nbformat": 4,
 "nbformat_minor": 5
}
