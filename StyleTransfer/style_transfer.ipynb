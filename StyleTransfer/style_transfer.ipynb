{
 "cells": [
  {
   "cell_type": "code",
   "execution_count": 1,
   "id": "9054a356",
   "metadata": {},
   "outputs": [],
   "source": [
    "import torch\n",
    "import torch.nn as nn\n",
    "import torch.optim as optim\n",
    "import torchvision.transforms as transforms # 将图片转化为张量形式\n",
    "import torchvision.models as models # 用来加载已经训练好的VGG19\n",
    "\n",
    "from PIL import Image    # 用来读取图片\n",
    "from torchvision.utils import save_image # 用来存储突破"
   ]
  },
  {
   "cell_type": "markdown",
   "id": "44602482",
   "metadata": {},
   "source": [
    "### 1： 该模型用到了预先训练好的VGG19模型，并且在任务中该卷积模型的参数是固定的"
   ]
  },
  {
   "cell_type": "code",
   "execution_count": 2,
   "id": "a1d73731",
   "metadata": {},
   "outputs": [
    {
     "name": "stdout",
     "output_type": "stream",
     "text": [
      "Sequential(\n",
      "  (0): Conv2d(3, 64, kernel_size=(3, 3), stride=(1, 1), padding=(1, 1))\n",
      "  (1): ReLU(inplace=True)\n",
      "  (2): Conv2d(64, 64, kernel_size=(3, 3), stride=(1, 1), padding=(1, 1))\n",
      "  (3): ReLU(inplace=True)\n",
      "  (4): MaxPool2d(kernel_size=2, stride=2, padding=0, dilation=1, ceil_mode=False)\n",
      "  (5): Conv2d(64, 128, kernel_size=(3, 3), stride=(1, 1), padding=(1, 1))\n",
      "  (6): ReLU(inplace=True)\n",
      "  (7): Conv2d(128, 128, kernel_size=(3, 3), stride=(1, 1), padding=(1, 1))\n",
      "  (8): ReLU(inplace=True)\n",
      "  (9): MaxPool2d(kernel_size=2, stride=2, padding=0, dilation=1, ceil_mode=False)\n",
      "  (10): Conv2d(128, 256, kernel_size=(3, 3), stride=(1, 1), padding=(1, 1))\n",
      "  (11): ReLU(inplace=True)\n",
      "  (12): Conv2d(256, 256, kernel_size=(3, 3), stride=(1, 1), padding=(1, 1))\n",
      "  (13): ReLU(inplace=True)\n",
      "  (14): Conv2d(256, 256, kernel_size=(3, 3), stride=(1, 1), padding=(1, 1))\n",
      "  (15): ReLU(inplace=True)\n",
      "  (16): Conv2d(256, 256, kernel_size=(3, 3), stride=(1, 1), padding=(1, 1))\n",
      "  (17): ReLU(inplace=True)\n",
      "  (18): MaxPool2d(kernel_size=2, stride=2, padding=0, dilation=1, ceil_mode=False)\n",
      "  (19): Conv2d(256, 512, kernel_size=(3, 3), stride=(1, 1), padding=(1, 1))\n",
      "  (20): ReLU(inplace=True)\n",
      "  (21): Conv2d(512, 512, kernel_size=(3, 3), stride=(1, 1), padding=(1, 1))\n",
      "  (22): ReLU(inplace=True)\n",
      "  (23): Conv2d(512, 512, kernel_size=(3, 3), stride=(1, 1), padding=(1, 1))\n",
      "  (24): ReLU(inplace=True)\n",
      "  (25): Conv2d(512, 512, kernel_size=(3, 3), stride=(1, 1), padding=(1, 1))\n",
      "  (26): ReLU(inplace=True)\n",
      "  (27): MaxPool2d(kernel_size=2, stride=2, padding=0, dilation=1, ceil_mode=False)\n",
      "  (28): Conv2d(512, 512, kernel_size=(3, 3), stride=(1, 1), padding=(1, 1))\n",
      "  (29): ReLU(inplace=True)\n",
      "  (30): Conv2d(512, 512, kernel_size=(3, 3), stride=(1, 1), padding=(1, 1))\n",
      "  (31): ReLU(inplace=True)\n",
      "  (32): Conv2d(512, 512, kernel_size=(3, 3), stride=(1, 1), padding=(1, 1))\n",
      "  (33): ReLU(inplace=True)\n",
      "  (34): Conv2d(512, 512, kernel_size=(3, 3), stride=(1, 1), padding=(1, 1))\n",
      "  (35): ReLU(inplace=True)\n",
      "  (36): MaxPool2d(kernel_size=2, stride=2, padding=0, dilation=1, ceil_mode=False)\n",
      ")\n"
     ]
    }
   ],
   "source": [
    "model =models.vgg19(pretrained=True).features\n",
    "print(model)"
   ]
  },
  {
   "cell_type": "markdown",
   "id": "e2d9b5b5",
   "metadata": {},
   "source": [
    "从上面可以看到VGG19一共有36层，对content 和 style 来说 只要选择其中的五层即可 我们按论文中写的选择的是[0,5,10,19,28]"
   ]
  },
  {
   "cell_type": "code",
   "execution_count": 3,
   "id": "7520e471",
   "metadata": {},
   "outputs": [
    {
     "name": "stdout",
     "output_type": "stream",
     "text": [
      "Conv2d(512, 512, kernel_size=(3, 3), stride=(1, 1), padding=(1, 1))\n"
     ]
    }
   ],
   "source": [
    "# 打印其中的一层可以看到它的结构是如何的\n",
    "print(model[(28)])"
   ]
  },
  {
   "cell_type": "markdown",
   "id": "1157cb60",
   "metadata": {},
   "source": [
    "### 下面写一个方法，该方法能够直接得到对应输入的五个输出特征"
   ]
  },
  {
   "cell_type": "code",
   "execution_count": 4,
   "id": "c7b03b44",
   "metadata": {},
   "outputs": [],
   "source": [
    "class VGG(nn.Module):\n",
    "    def __init__(self):\n",
    "        super().__init__()\n",
    "        \n",
    "        self.chosen_features = [0,5,10,19,28]\n",
    "        self.model = models.vgg19(pretrained=True).features[:29]  # 该网络的28层后面层去我们一点关系都没有了\n",
    "        \n",
    "    \n",
    "    def forward(self,x):\n",
    "        \n",
    "        features = []\n",
    "        \n",
    "        for layer_num, layer in enumerate(self.model):\n",
    "            x = layer(x)\n",
    "            if layer_num in self.chosen_features:\n",
    "                features.append(x)\n",
    "                \n",
    "        return features"
   ]
  },
  {
   "cell_type": "markdown",
   "id": "ba2d6760",
   "metadata": {},
   "source": [
    "### 2：加载数据集，主要是对content image 和 style image的图片进行预处理"
   ]
  },
  {
   "cell_type": "code",
   "execution_count": 5,
   "id": "afbff0aa",
   "metadata": {},
   "outputs": [],
   "source": [
    "loader = transforms.Compose(\n",
    "    [\n",
    "        transforms.Resize((356,356)),\n",
    "        transforms.ToTensor()\n",
    "    ]\n",
    ")"
   ]
  },
  {
   "cell_type": "code",
   "execution_count": 6,
   "id": "bb5cdd7c",
   "metadata": {},
   "outputs": [],
   "source": [
    "def load_image(image_name):\n",
    "    image = Image.open(image_name)\n",
    "    image = loader(image).unsqueeze(0) # 该方法将张量从3维变成4维的，满足网络模型输入参数的输入条件\n",
    "    \n",
    "    return image.to(device)"
   ]
  },
  {
   "cell_type": "code",
   "execution_count": 7,
   "id": "8d526ee6",
   "metadata": {},
   "outputs": [
    {
     "name": "stdout",
     "output_type": "stream",
     "text": [
      "cuda\n"
     ]
    }
   ],
   "source": [
    "device = torch.device(\"cuda\" if torch.cuda.is_available else \"cpu\")\n",
    "print(device)"
   ]
  },
  {
   "cell_type": "code",
   "execution_count": 8,
   "id": "0dbdb66a",
   "metadata": {},
   "outputs": [],
   "source": [
    "content_image = load_image(\"content_image/face.jpg\")\n",
    "style_image = load_image(\"style_image/scream.jpg\")"
   ]
  },
  {
   "cell_type": "code",
   "execution_count": 9,
   "id": "af2da618",
   "metadata": {},
   "outputs": [
    {
     "name": "stdout",
     "output_type": "stream",
     "text": [
      "torch.Size([1, 3, 356, 356])\n",
      "torch.Size([1, 3, 356, 356])\n"
     ]
    }
   ],
   "source": [
    "print(content_image.shape)\n",
    "print(style_image.shape)"
   ]
  },
  {
   "cell_type": "markdown",
   "id": "4d19caa7",
   "metadata": {},
   "source": [
    "###  模型初始化"
   ]
  },
  {
   "cell_type": "code",
   "execution_count": 10,
   "id": "10c8dfad",
   "metadata": {},
   "outputs": [],
   "source": [
    "# 超参数的设计\n",
    "total_steps = 30000\n",
    "learning_rate = 0.001\n",
    "alpha = 0.00001\n",
    "bate = 1\n",
    "\n",
    "Model = VGG().to(device).eval()\n",
    "generated = content_image.clone().requires_grad_(True)\n",
    "optimizer = optim.Adam([generated],lr=learning_rate)"
   ]
  },
  {
   "cell_type": "markdown",
   "id": "c4b014c4",
   "metadata": {},
   "source": [
    "### 模型训练"
   ]
  },
  {
   "cell_type": "code",
   "execution_count": 11,
   "id": "41d0166a",
   "metadata": {},
   "outputs": [
    {
     "name": "stderr",
     "output_type": "stream",
     "text": [
      "D:\\Tools\\miniConda\\envs\\gan\\lib\\site-packages\\torch\\nn\\functional.py:718: UserWarning: Named tensors and all their associated APIs are an experimental feature and subject to change. Please do not use them for anything important until they are released as stable. (Triggered internally at  ..\\c10/core/TensorImpl.h:1156.)\n",
      "  return torch.max_pool2d(input, kernel_size, stride, padding, dilation, ceil_mode)\n"
     ]
    },
    {
     "name": "stdout",
     "output_type": "stream",
     "text": [
      "tensor(0., device='cuda:0', grad_fn=<AddBackward0>) tensor(19342456., device='cuda:0', grad_fn=<AddBackward0>) tensor(19342456., device='cuda:0', grad_fn=<AddBackward0>)\n",
      "tensor(8.7208, device='cuda:0', grad_fn=<AddBackward0>) tensor(938070., device='cuda:0', grad_fn=<AddBackward0>) tensor(938070., device='cuda:0', grad_fn=<AddBackward0>)\n",
      "tensor(9.6860, device='cuda:0', grad_fn=<AddBackward0>) tensor(453392.2188, device='cuda:0', grad_fn=<AddBackward0>) tensor(453392.2188, device='cuda:0', grad_fn=<AddBackward0>)\n",
      "tensor(10.2112, device='cuda:0', grad_fn=<AddBackward0>) tensor(301595.7188, device='cuda:0', grad_fn=<AddBackward0>) tensor(301595.7188, device='cuda:0', grad_fn=<AddBackward0>)\n",
      "tensor(10.5512, device='cuda:0', grad_fn=<AddBackward0>) tensor(234105.2188, device='cuda:0', grad_fn=<AddBackward0>) tensor(234105.2188, device='cuda:0', grad_fn=<AddBackward0>)\n",
      "tensor(10.8184, device='cuda:0', grad_fn=<AddBackward0>) tensor(193711.7969, device='cuda:0', grad_fn=<AddBackward0>) tensor(193711.7969, device='cuda:0', grad_fn=<AddBackward0>)\n",
      "tensor(11.0207, device='cuda:0', grad_fn=<AddBackward0>) tensor(166239.9062, device='cuda:0', grad_fn=<AddBackward0>) tensor(166239.9062, device='cuda:0', grad_fn=<AddBackward0>)\n",
      "tensor(11.2067, device='cuda:0', grad_fn=<AddBackward0>) tensor(146072.2656, device='cuda:0', grad_fn=<AddBackward0>) tensor(146072.2656, device='cuda:0', grad_fn=<AddBackward0>)\n",
      "tensor(11.3874, device='cuda:0', grad_fn=<AddBackward0>) tensor(130533.3281, device='cuda:0', grad_fn=<AddBackward0>) tensor(130533.3281, device='cuda:0', grad_fn=<AddBackward0>)\n",
      "tensor(11.5445, device='cuda:0', grad_fn=<AddBackward0>) tensor(118119.1016, device='cuda:0', grad_fn=<AddBackward0>) tensor(118119.1016, device='cuda:0', grad_fn=<AddBackward0>)\n",
      "tensor(11.6796, device='cuda:0', grad_fn=<AddBackward0>) tensor(107875.2734, device='cuda:0', grad_fn=<AddBackward0>) tensor(107875.2734, device='cuda:0', grad_fn=<AddBackward0>)\n",
      "tensor(11.7951, device='cuda:0', grad_fn=<AddBackward0>) tensor(99232.2109, device='cuda:0', grad_fn=<AddBackward0>) tensor(99232.2109, device='cuda:0', grad_fn=<AddBackward0>)\n",
      "tensor(11.9022, device='cuda:0', grad_fn=<AddBackward0>) tensor(91708.9219, device='cuda:0', grad_fn=<AddBackward0>) tensor(91708.9219, device='cuda:0', grad_fn=<AddBackward0>)\n",
      "tensor(12.0082, device='cuda:0', grad_fn=<AddBackward0>) tensor(85108.7812, device='cuda:0', grad_fn=<AddBackward0>) tensor(85108.7812, device='cuda:0', grad_fn=<AddBackward0>)\n",
      "tensor(12.1033, device='cuda:0', grad_fn=<AddBackward0>) tensor(79288.2266, device='cuda:0', grad_fn=<AddBackward0>) tensor(79288.2266, device='cuda:0', grad_fn=<AddBackward0>)\n",
      "tensor(12.1880, device='cuda:0', grad_fn=<AddBackward0>) tensor(74067.5156, device='cuda:0', grad_fn=<AddBackward0>) tensor(74067.5156, device='cuda:0', grad_fn=<AddBackward0>)\n",
      "tensor(12.2579, device='cuda:0', grad_fn=<AddBackward0>) tensor(69404.1484, device='cuda:0', grad_fn=<AddBackward0>) tensor(69404.1484, device='cuda:0', grad_fn=<AddBackward0>)\n",
      "tensor(12.3381, device='cuda:0', grad_fn=<AddBackward0>) tensor(65162.5430, device='cuda:0', grad_fn=<AddBackward0>) tensor(65162.5430, device='cuda:0', grad_fn=<AddBackward0>)\n",
      "tensor(12.4183, device='cuda:0', grad_fn=<AddBackward0>) tensor(61238.9336, device='cuda:0', grad_fn=<AddBackward0>) tensor(61238.9336, device='cuda:0', grad_fn=<AddBackward0>)\n",
      "tensor(12.4965, device='cuda:0', grad_fn=<AddBackward0>) tensor(57671.0039, device='cuda:0', grad_fn=<AddBackward0>) tensor(57671.0039, device='cuda:0', grad_fn=<AddBackward0>)\n",
      "tensor(12.5589, device='cuda:0', grad_fn=<AddBackward0>) tensor(54336.7969, device='cuda:0', grad_fn=<AddBackward0>) tensor(54336.7969, device='cuda:0', grad_fn=<AddBackward0>)\n",
      "tensor(12.6267, device='cuda:0', grad_fn=<AddBackward0>) tensor(51267.2266, device='cuda:0', grad_fn=<AddBackward0>) tensor(51267.2266, device='cuda:0', grad_fn=<AddBackward0>)\n",
      "tensor(12.6876, device='cuda:0', grad_fn=<AddBackward0>) tensor(48465.5391, device='cuda:0', grad_fn=<AddBackward0>) tensor(48465.5391, device='cuda:0', grad_fn=<AddBackward0>)\n",
      "tensor(12.7282, device='cuda:0', grad_fn=<AddBackward0>) tensor(45827.7188, device='cuda:0', grad_fn=<AddBackward0>) tensor(45827.7188, device='cuda:0', grad_fn=<AddBackward0>)\n",
      "tensor(12.7891, device='cuda:0', grad_fn=<AddBackward0>) tensor(43369.1992, device='cuda:0', grad_fn=<AddBackward0>) tensor(43369.1992, device='cuda:0', grad_fn=<AddBackward0>)\n",
      "tensor(12.8456, device='cuda:0', grad_fn=<AddBackward0>) tensor(41143.7930, device='cuda:0', grad_fn=<AddBackward0>) tensor(41143.7930, device='cuda:0', grad_fn=<AddBackward0>)\n",
      "tensor(12.8794, device='cuda:0', grad_fn=<AddBackward0>) tensor(39079.2070, device='cuda:0', grad_fn=<AddBackward0>) tensor(39079.2070, device='cuda:0', grad_fn=<AddBackward0>)\n",
      "tensor(12.9454, device='cuda:0', grad_fn=<AddBackward0>) tensor(37215.5078, device='cuda:0', grad_fn=<AddBackward0>) tensor(37215.5078, device='cuda:0', grad_fn=<AddBackward0>)\n",
      "tensor(12.9879, device='cuda:0', grad_fn=<AddBackward0>) tensor(35454.9766, device='cuda:0', grad_fn=<AddBackward0>) tensor(35454.9766, device='cuda:0', grad_fn=<AddBackward0>)\n",
      "tensor(13.0012, device='cuda:0', grad_fn=<AddBackward0>) tensor(33820.6523, device='cuda:0', grad_fn=<AddBackward0>) tensor(33820.6523, device='cuda:0', grad_fn=<AddBackward0>)\n",
      "tensor(13.0384, device='cuda:0', grad_fn=<AddBackward0>) tensor(32345.0254, device='cuda:0', grad_fn=<AddBackward0>) tensor(32345.0254, device='cuda:0', grad_fn=<AddBackward0>)\n",
      "tensor(13.0875, device='cuda:0', grad_fn=<AddBackward0>) tensor(30912.1719, device='cuda:0', grad_fn=<AddBackward0>) tensor(30912.1719, device='cuda:0', grad_fn=<AddBackward0>)\n",
      "tensor(13.1203, device='cuda:0', grad_fn=<AddBackward0>) tensor(29681.6426, device='cuda:0', grad_fn=<AddBackward0>) tensor(29681.6426, device='cuda:0', grad_fn=<AddBackward0>)\n",
      "tensor(13.1573, device='cuda:0', grad_fn=<AddBackward0>) tensor(28545.2812, device='cuda:0', grad_fn=<AddBackward0>) tensor(28545.2812, device='cuda:0', grad_fn=<AddBackward0>)\n",
      "tensor(13.1651, device='cuda:0', grad_fn=<AddBackward0>) tensor(27779.7656, device='cuda:0', grad_fn=<AddBackward0>) tensor(27779.7656, device='cuda:0', grad_fn=<AddBackward0>)\n",
      "tensor(13.2043, device='cuda:0', grad_fn=<AddBackward0>) tensor(26650.1465, device='cuda:0', grad_fn=<AddBackward0>) tensor(26650.1465, device='cuda:0', grad_fn=<AddBackward0>)\n",
      "tensor(13.2310, device='cuda:0', grad_fn=<AddBackward0>) tensor(25829.7812, device='cuda:0', grad_fn=<AddBackward0>) tensor(25829.7812, device='cuda:0', grad_fn=<AddBackward0>)\n",
      "tensor(13.2685, device='cuda:0', grad_fn=<AddBackward0>) tensor(24957.8027, device='cuda:0', grad_fn=<AddBackward0>) tensor(24957.8027, device='cuda:0', grad_fn=<AddBackward0>)\n",
      "tensor(13.2795, device='cuda:0', grad_fn=<AddBackward0>) tensor(24321.9121, device='cuda:0', grad_fn=<AddBackward0>) tensor(24321.9121, device='cuda:0', grad_fn=<AddBackward0>)\n",
      "tensor(13.2988, device='cuda:0', grad_fn=<AddBackward0>) tensor(23940.6582, device='cuda:0', grad_fn=<AddBackward0>) tensor(23940.6582, device='cuda:0', grad_fn=<AddBackward0>)\n",
      "tensor(13.3467, device='cuda:0', grad_fn=<AddBackward0>) tensor(23042.3320, device='cuda:0', grad_fn=<AddBackward0>) tensor(23042.3320, device='cuda:0', grad_fn=<AddBackward0>)\n",
      "tensor(13.3563, device='cuda:0', grad_fn=<AddBackward0>) tensor(22456.9629, device='cuda:0', grad_fn=<AddBackward0>) tensor(22456.9629, device='cuda:0', grad_fn=<AddBackward0>)\n",
      "tensor(13.3891, device='cuda:0', grad_fn=<AddBackward0>) tensor(21935.7559, device='cuda:0', grad_fn=<AddBackward0>) tensor(21935.7559, device='cuda:0', grad_fn=<AddBackward0>)\n",
      "tensor(13.3837, device='cuda:0', grad_fn=<AddBackward0>) tensor(21595.5625, device='cuda:0', grad_fn=<AddBackward0>) tensor(21595.5625, device='cuda:0', grad_fn=<AddBackward0>)\n",
      "tensor(13.4096, device='cuda:0', grad_fn=<AddBackward0>) tensor(21026.2422, device='cuda:0', grad_fn=<AddBackward0>) tensor(21026.2422, device='cuda:0', grad_fn=<AddBackward0>)\n",
      "tensor(13.4303, device='cuda:0', grad_fn=<AddBackward0>) tensor(20681.8164, device='cuda:0', grad_fn=<AddBackward0>) tensor(20681.8164, device='cuda:0', grad_fn=<AddBackward0>)\n",
      "tensor(13.4345, device='cuda:0', grad_fn=<AddBackward0>) tensor(20306.6309, device='cuda:0', grad_fn=<AddBackward0>) tensor(20306.6309, device='cuda:0', grad_fn=<AddBackward0>)\n"
     ]
    },
    {
     "name": "stdout",
     "output_type": "stream",
     "text": [
      "tensor(13.4470, device='cuda:0', grad_fn=<AddBackward0>) tensor(19983.5547, device='cuda:0', grad_fn=<AddBackward0>) tensor(19983.5547, device='cuda:0', grad_fn=<AddBackward0>)\n",
      "tensor(13.4737, device='cuda:0', grad_fn=<AddBackward0>) tensor(19663.8086, device='cuda:0', grad_fn=<AddBackward0>) tensor(19663.8086, device='cuda:0', grad_fn=<AddBackward0>)\n",
      "tensor(13.4724, device='cuda:0', grad_fn=<AddBackward0>) tensor(19368.4082, device='cuda:0', grad_fn=<AddBackward0>) tensor(19368.4082, device='cuda:0', grad_fn=<AddBackward0>)\n",
      "tensor(13.4779, device='cuda:0', grad_fn=<AddBackward0>) tensor(19147.2695, device='cuda:0', grad_fn=<AddBackward0>) tensor(19147.2695, device='cuda:0', grad_fn=<AddBackward0>)\n",
      "tensor(13.4920, device='cuda:0', grad_fn=<AddBackward0>) tensor(18856.3555, device='cuda:0', grad_fn=<AddBackward0>) tensor(18856.3555, device='cuda:0', grad_fn=<AddBackward0>)\n",
      "tensor(13.4980, device='cuda:0', grad_fn=<AddBackward0>) tensor(18660.2480, device='cuda:0', grad_fn=<AddBackward0>) tensor(18660.2480, device='cuda:0', grad_fn=<AddBackward0>)\n",
      "tensor(13.5141, device='cuda:0', grad_fn=<AddBackward0>) tensor(18398.9688, device='cuda:0', grad_fn=<AddBackward0>) tensor(18398.9688, device='cuda:0', grad_fn=<AddBackward0>)\n",
      "tensor(13.5425, device='cuda:0', grad_fn=<AddBackward0>) tensor(18162.3242, device='cuda:0', grad_fn=<AddBackward0>) tensor(18162.3242, device='cuda:0', grad_fn=<AddBackward0>)\n",
      "tensor(13.5546, device='cuda:0', grad_fn=<AddBackward0>) tensor(17929.4883, device='cuda:0', grad_fn=<AddBackward0>) tensor(17929.4883, device='cuda:0', grad_fn=<AddBackward0>)\n",
      "tensor(13.5698, device='cuda:0', grad_fn=<AddBackward0>) tensor(17828.8008, device='cuda:0', grad_fn=<AddBackward0>) tensor(17828.8008, device='cuda:0', grad_fn=<AddBackward0>)\n",
      "tensor(13.5668, device='cuda:0', grad_fn=<AddBackward0>) tensor(17556.8125, device='cuda:0', grad_fn=<AddBackward0>) tensor(17556.8125, device='cuda:0', grad_fn=<AddBackward0>)\n",
      "tensor(13.5645, device='cuda:0', grad_fn=<AddBackward0>) tensor(17438.5605, device='cuda:0', grad_fn=<AddBackward0>) tensor(17438.5605, device='cuda:0', grad_fn=<AddBackward0>)\n",
      "tensor(13.5944, device='cuda:0', grad_fn=<AddBackward0>) tensor(17434.1543, device='cuda:0', grad_fn=<AddBackward0>) tensor(17434.1543, device='cuda:0', grad_fn=<AddBackward0>)\n",
      "tensor(13.5754, device='cuda:0', grad_fn=<AddBackward0>) tensor(17330.6016, device='cuda:0', grad_fn=<AddBackward0>) tensor(17330.6016, device='cuda:0', grad_fn=<AddBackward0>)\n",
      "tensor(13.6000, device='cuda:0', grad_fn=<AddBackward0>) tensor(16920.3281, device='cuda:0', grad_fn=<AddBackward0>) tensor(16920.3281, device='cuda:0', grad_fn=<AddBackward0>)\n",
      "tensor(13.6181, device='cuda:0', grad_fn=<AddBackward0>) tensor(16829.5977, device='cuda:0', grad_fn=<AddBackward0>) tensor(16829.5977, device='cuda:0', grad_fn=<AddBackward0>)\n",
      "tensor(13.6517, device='cuda:0', grad_fn=<AddBackward0>) tensor(17394.9375, device='cuda:0', grad_fn=<AddBackward0>) tensor(17394.9375, device='cuda:0', grad_fn=<AddBackward0>)\n",
      "tensor(13.6367, device='cuda:0', grad_fn=<AddBackward0>) tensor(16603.9941, device='cuda:0', grad_fn=<AddBackward0>) tensor(16603.9941, device='cuda:0', grad_fn=<AddBackward0>)\n",
      "tensor(13.6313, device='cuda:0', grad_fn=<AddBackward0>) tensor(16537.7285, device='cuda:0', grad_fn=<AddBackward0>) tensor(16537.7285, device='cuda:0', grad_fn=<AddBackward0>)\n",
      "tensor(13.6421, device='cuda:0', grad_fn=<AddBackward0>) tensor(16313.6445, device='cuda:0', grad_fn=<AddBackward0>) tensor(16313.6445, device='cuda:0', grad_fn=<AddBackward0>)\n",
      "tensor(13.6564, device='cuda:0', grad_fn=<AddBackward0>) tensor(16241.9707, device='cuda:0', grad_fn=<AddBackward0>) tensor(16241.9707, device='cuda:0', grad_fn=<AddBackward0>)\n",
      "tensor(13.6631, device='cuda:0', grad_fn=<AddBackward0>) tensor(16122.2129, device='cuda:0', grad_fn=<AddBackward0>) tensor(16122.2129, device='cuda:0', grad_fn=<AddBackward0>)\n",
      "tensor(13.6553, device='cuda:0', grad_fn=<AddBackward0>) tensor(16086.6738, device='cuda:0', grad_fn=<AddBackward0>) tensor(16086.6738, device='cuda:0', grad_fn=<AddBackward0>)\n",
      "tensor(13.6641, device='cuda:0', grad_fn=<AddBackward0>) tensor(15907.0859, device='cuda:0', grad_fn=<AddBackward0>) tensor(15907.0859, device='cuda:0', grad_fn=<AddBackward0>)\n",
      "tensor(13.6748, device='cuda:0', grad_fn=<AddBackward0>) tensor(15799.5244, device='cuda:0', grad_fn=<AddBackward0>) tensor(15799.5244, device='cuda:0', grad_fn=<AddBackward0>)\n",
      "tensor(13.6768, device='cuda:0', grad_fn=<AddBackward0>) tensor(15815.5791, device='cuda:0', grad_fn=<AddBackward0>) tensor(15815.5791, device='cuda:0', grad_fn=<AddBackward0>)\n",
      "tensor(13.6980, device='cuda:0', grad_fn=<AddBackward0>) tensor(15722.3076, device='cuda:0', grad_fn=<AddBackward0>) tensor(15722.3076, device='cuda:0', grad_fn=<AddBackward0>)\n",
      "tensor(13.6745, device='cuda:0', grad_fn=<AddBackward0>) tensor(15804.3887, device='cuda:0', grad_fn=<AddBackward0>) tensor(15804.3887, device='cuda:0', grad_fn=<AddBackward0>)\n",
      "tensor(13.6826, device='cuda:0', grad_fn=<AddBackward0>) tensor(15708.5371, device='cuda:0', grad_fn=<AddBackward0>) tensor(15708.5371, device='cuda:0', grad_fn=<AddBackward0>)\n",
      "tensor(13.7058, device='cuda:0', grad_fn=<AddBackward0>) tensor(15392.4277, device='cuda:0', grad_fn=<AddBackward0>) tensor(15392.4277, device='cuda:0', grad_fn=<AddBackward0>)\n",
      "tensor(13.7177, device='cuda:0', grad_fn=<AddBackward0>) tensor(15413.1934, device='cuda:0', grad_fn=<AddBackward0>) tensor(15413.1934, device='cuda:0', grad_fn=<AddBackward0>)\n",
      "tensor(13.7219, device='cuda:0', grad_fn=<AddBackward0>) tensor(15269.5732, device='cuda:0', grad_fn=<AddBackward0>) tensor(15269.5732, device='cuda:0', grad_fn=<AddBackward0>)\n",
      "tensor(13.7337, device='cuda:0', grad_fn=<AddBackward0>) tensor(15312.4961, device='cuda:0', grad_fn=<AddBackward0>) tensor(15312.4961, device='cuda:0', grad_fn=<AddBackward0>)\n",
      "tensor(13.7191, device='cuda:0', grad_fn=<AddBackward0>) tensor(15185.4268, device='cuda:0', grad_fn=<AddBackward0>) tensor(15185.4268, device='cuda:0', grad_fn=<AddBackward0>)\n",
      "tensor(13.7290, device='cuda:0', grad_fn=<AddBackward0>) tensor(15098.3115, device='cuda:0', grad_fn=<AddBackward0>) tensor(15098.3115, device='cuda:0', grad_fn=<AddBackward0>)\n",
      "tensor(13.7467, device='cuda:0', grad_fn=<AddBackward0>) tensor(15279.6348, device='cuda:0', grad_fn=<AddBackward0>) tensor(15279.6348, device='cuda:0', grad_fn=<AddBackward0>)\n",
      "tensor(13.7469, device='cuda:0', grad_fn=<AddBackward0>) tensor(14945.4932, device='cuda:0', grad_fn=<AddBackward0>) tensor(14945.4932, device='cuda:0', grad_fn=<AddBackward0>)\n",
      "tensor(13.7409, device='cuda:0', grad_fn=<AddBackward0>) tensor(14873.1035, device='cuda:0', grad_fn=<AddBackward0>) tensor(14873.1035, device='cuda:0', grad_fn=<AddBackward0>)\n",
      "tensor(13.7414, device='cuda:0', grad_fn=<AddBackward0>) tensor(14829.3965, device='cuda:0', grad_fn=<AddBackward0>) tensor(14829.3965, device='cuda:0', grad_fn=<AddBackward0>)\n",
      "tensor(13.7518, device='cuda:0', grad_fn=<AddBackward0>) tensor(14738.1855, device='cuda:0', grad_fn=<AddBackward0>) tensor(14738.1855, device='cuda:0', grad_fn=<AddBackward0>)\n",
      "tensor(13.7536, device='cuda:0', grad_fn=<AddBackward0>) tensor(14758.9541, device='cuda:0', grad_fn=<AddBackward0>) tensor(14758.9541, device='cuda:0', grad_fn=<AddBackward0>)\n",
      "tensor(13.7540, device='cuda:0', grad_fn=<AddBackward0>) tensor(14660.2998, device='cuda:0', grad_fn=<AddBackward0>) tensor(14660.2998, device='cuda:0', grad_fn=<AddBackward0>)\n",
      "tensor(13.7631, device='cuda:0', grad_fn=<AddBackward0>) tensor(14587.9824, device='cuda:0', grad_fn=<AddBackward0>) tensor(14587.9824, device='cuda:0', grad_fn=<AddBackward0>)\n",
      "tensor(13.7715, device='cuda:0', grad_fn=<AddBackward0>) tensor(14623.5664, device='cuda:0', grad_fn=<AddBackward0>) tensor(14623.5664, device='cuda:0', grad_fn=<AddBackward0>)\n",
      "tensor(13.7776, device='cuda:0', grad_fn=<AddBackward0>) tensor(14555.4219, device='cuda:0', grad_fn=<AddBackward0>) tensor(14555.4219, device='cuda:0', grad_fn=<AddBackward0>)\n",
      "tensor(13.7658, device='cuda:0', grad_fn=<AddBackward0>) tensor(14511., device='cuda:0', grad_fn=<AddBackward0>) tensor(14511., device='cuda:0', grad_fn=<AddBackward0>)\n",
      "tensor(13.7694, device='cuda:0', grad_fn=<AddBackward0>) tensor(14459.8828, device='cuda:0', grad_fn=<AddBackward0>) tensor(14459.8828, device='cuda:0', grad_fn=<AddBackward0>)\n"
     ]
    },
    {
     "name": "stdout",
     "output_type": "stream",
     "text": [
      "tensor(13.7487, device='cuda:0', grad_fn=<AddBackward0>) tensor(15214.4404, device='cuda:0', grad_fn=<AddBackward0>) tensor(15214.4404, device='cuda:0', grad_fn=<AddBackward0>)\n",
      "tensor(13.7948, device='cuda:0', grad_fn=<AddBackward0>) tensor(14370.2676, device='cuda:0', grad_fn=<AddBackward0>) tensor(14370.2676, device='cuda:0', grad_fn=<AddBackward0>)\n",
      "tensor(13.7935, device='cuda:0', grad_fn=<AddBackward0>) tensor(14314.0791, device='cuda:0', grad_fn=<AddBackward0>) tensor(14314.0791, device='cuda:0', grad_fn=<AddBackward0>)\n",
      "tensor(13.7949, device='cuda:0', grad_fn=<AddBackward0>) tensor(14251.5654, device='cuda:0', grad_fn=<AddBackward0>) tensor(14251.5654, device='cuda:0', grad_fn=<AddBackward0>)\n",
      "tensor(13.8082, device='cuda:0', grad_fn=<AddBackward0>) tensor(14257.3877, device='cuda:0', grad_fn=<AddBackward0>) tensor(14257.3877, device='cuda:0', grad_fn=<AddBackward0>)\n",
      "tensor(13.8129, device='cuda:0', grad_fn=<AddBackward0>) tensor(14236.3867, device='cuda:0', grad_fn=<AddBackward0>) tensor(14236.3867, device='cuda:0', grad_fn=<AddBackward0>)\n",
      "tensor(13.8052, device='cuda:0', grad_fn=<AddBackward0>) tensor(14193.0215, device='cuda:0', grad_fn=<AddBackward0>) tensor(14193.0215, device='cuda:0', grad_fn=<AddBackward0>)\n",
      "tensor(13.7961, device='cuda:0', grad_fn=<AddBackward0>) tensor(14235.5322, device='cuda:0', grad_fn=<AddBackward0>) tensor(14235.5322, device='cuda:0', grad_fn=<AddBackward0>)\n",
      "tensor(13.8113, device='cuda:0', grad_fn=<AddBackward0>) tensor(14065.0723, device='cuda:0', grad_fn=<AddBackward0>) tensor(14065.0723, device='cuda:0', grad_fn=<AddBackward0>)\n",
      "tensor(13.7888, device='cuda:0', grad_fn=<AddBackward0>) tensor(14521.2334, device='cuda:0', grad_fn=<AddBackward0>) tensor(14521.2334, device='cuda:0', grad_fn=<AddBackward0>)\n",
      "tensor(13.8003, device='cuda:0', grad_fn=<AddBackward0>) tensor(14266.3320, device='cuda:0', grad_fn=<AddBackward0>) tensor(14266.3320, device='cuda:0', grad_fn=<AddBackward0>)\n",
      "tensor(13.8251, device='cuda:0', grad_fn=<AddBackward0>) tensor(13951.7168, device='cuda:0', grad_fn=<AddBackward0>) tensor(13951.7168, device='cuda:0', grad_fn=<AddBackward0>)\n",
      "tensor(13.8299, device='cuda:0', grad_fn=<AddBackward0>) tensor(13907.8076, device='cuda:0', grad_fn=<AddBackward0>) tensor(13907.8076, device='cuda:0', grad_fn=<AddBackward0>)\n",
      "tensor(13.8230, device='cuda:0', grad_fn=<AddBackward0>) tensor(13891.4531, device='cuda:0', grad_fn=<AddBackward0>) tensor(13891.4531, device='cuda:0', grad_fn=<AddBackward0>)\n",
      "tensor(13.8243, device='cuda:0', grad_fn=<AddBackward0>) tensor(13874.0039, device='cuda:0', grad_fn=<AddBackward0>) tensor(13874.0039, device='cuda:0', grad_fn=<AddBackward0>)\n",
      "tensor(13.8262, device='cuda:0', grad_fn=<AddBackward0>) tensor(13824.8242, device='cuda:0', grad_fn=<AddBackward0>) tensor(13824.8242, device='cuda:0', grad_fn=<AddBackward0>)\n",
      "tensor(13.8377, device='cuda:0', grad_fn=<AddBackward0>) tensor(13922.8887, device='cuda:0', grad_fn=<AddBackward0>) tensor(13922.8887, device='cuda:0', grad_fn=<AddBackward0>)\n",
      "tensor(13.8250, device='cuda:0', grad_fn=<AddBackward0>) tensor(13903.1475, device='cuda:0', grad_fn=<AddBackward0>) tensor(13903.1475, device='cuda:0', grad_fn=<AddBackward0>)\n",
      "tensor(13.8342, device='cuda:0', grad_fn=<AddBackward0>) tensor(13773.8008, device='cuda:0', grad_fn=<AddBackward0>) tensor(13773.8008, device='cuda:0', grad_fn=<AddBackward0>)\n",
      "tensor(13.8476, device='cuda:0', grad_fn=<AddBackward0>) tensor(13757.8906, device='cuda:0', grad_fn=<AddBackward0>) tensor(13757.8906, device='cuda:0', grad_fn=<AddBackward0>)\n",
      "tensor(13.8569, device='cuda:0', grad_fn=<AddBackward0>) tensor(13802.5449, device='cuda:0', grad_fn=<AddBackward0>) tensor(13802.5449, device='cuda:0', grad_fn=<AddBackward0>)\n",
      "tensor(13.8413, device='cuda:0', grad_fn=<AddBackward0>) tensor(13716.9395, device='cuda:0', grad_fn=<AddBackward0>) tensor(13716.9395, device='cuda:0', grad_fn=<AddBackward0>)\n",
      "tensor(13.8488, device='cuda:0', grad_fn=<AddBackward0>) tensor(13691.5469, device='cuda:0', grad_fn=<AddBackward0>) tensor(13691.5469, device='cuda:0', grad_fn=<AddBackward0>)\n",
      "tensor(13.8605, device='cuda:0', grad_fn=<AddBackward0>) tensor(13661.6299, device='cuda:0', grad_fn=<AddBackward0>) tensor(13661.6299, device='cuda:0', grad_fn=<AddBackward0>)\n",
      "tensor(13.8431, device='cuda:0', grad_fn=<AddBackward0>) tensor(13798.0020, device='cuda:0', grad_fn=<AddBackward0>) tensor(13798.0020, device='cuda:0', grad_fn=<AddBackward0>)\n",
      "tensor(13.8663, device='cuda:0', grad_fn=<AddBackward0>) tensor(13532.9004, device='cuda:0', grad_fn=<AddBackward0>) tensor(13532.9004, device='cuda:0', grad_fn=<AddBackward0>)\n",
      "tensor(13.8625, device='cuda:0', grad_fn=<AddBackward0>) tensor(13513.1426, device='cuda:0', grad_fn=<AddBackward0>) tensor(13513.1426, device='cuda:0', grad_fn=<AddBackward0>)\n",
      "tensor(13.8569, device='cuda:0', grad_fn=<AddBackward0>) tensor(13566.2910, device='cuda:0', grad_fn=<AddBackward0>) tensor(13566.2910, device='cuda:0', grad_fn=<AddBackward0>)\n",
      "tensor(13.8881, device='cuda:0', grad_fn=<AddBackward0>) tensor(13789.7969, device='cuda:0', grad_fn=<AddBackward0>) tensor(13789.7969, device='cuda:0', grad_fn=<AddBackward0>)\n",
      "tensor(13.8587, device='cuda:0', grad_fn=<AddBackward0>) tensor(13539.9297, device='cuda:0', grad_fn=<AddBackward0>) tensor(13539.9297, device='cuda:0', grad_fn=<AddBackward0>)\n",
      "tensor(13.8681, device='cuda:0', grad_fn=<AddBackward0>) tensor(13409.8496, device='cuda:0', grad_fn=<AddBackward0>) tensor(13409.8496, device='cuda:0', grad_fn=<AddBackward0>)\n",
      "tensor(13.8728, device='cuda:0', grad_fn=<AddBackward0>) tensor(13421.6309, device='cuda:0', grad_fn=<AddBackward0>) tensor(13421.6309, device='cuda:0', grad_fn=<AddBackward0>)\n",
      "tensor(13.8651, device='cuda:0', grad_fn=<AddBackward0>) tensor(13513.6729, device='cuda:0', grad_fn=<AddBackward0>) tensor(13513.6729, device='cuda:0', grad_fn=<AddBackward0>)\n",
      "tensor(13.8914, device='cuda:0', grad_fn=<AddBackward0>) tensor(13448.8721, device='cuda:0', grad_fn=<AddBackward0>) tensor(13448.8721, device='cuda:0', grad_fn=<AddBackward0>)\n",
      "tensor(13.8923, device='cuda:0', grad_fn=<AddBackward0>) tensor(13405.9492, device='cuda:0', grad_fn=<AddBackward0>) tensor(13405.9492, device='cuda:0', grad_fn=<AddBackward0>)\n",
      "tensor(13.8826, device='cuda:0', grad_fn=<AddBackward0>) tensor(13333.3691, device='cuda:0', grad_fn=<AddBackward0>) tensor(13333.3691, device='cuda:0', grad_fn=<AddBackward0>)\n",
      "tensor(13.8788, device='cuda:0', grad_fn=<AddBackward0>) tensor(13363.8975, device='cuda:0', grad_fn=<AddBackward0>) tensor(13363.8975, device='cuda:0', grad_fn=<AddBackward0>)\n",
      "tensor(13.8866, device='cuda:0', grad_fn=<AddBackward0>) tensor(13255.9463, device='cuda:0', grad_fn=<AddBackward0>) tensor(13255.9463, device='cuda:0', grad_fn=<AddBackward0>)\n",
      "tensor(13.9001, device='cuda:0', grad_fn=<AddBackward0>) tensor(13489.7607, device='cuda:0', grad_fn=<AddBackward0>) tensor(13489.7607, device='cuda:0', grad_fn=<AddBackward0>)\n",
      "tensor(13.8927, device='cuda:0', grad_fn=<AddBackward0>) tensor(13242.1094, device='cuda:0', grad_fn=<AddBackward0>) tensor(13242.1094, device='cuda:0', grad_fn=<AddBackward0>)\n",
      "tensor(13.9038, device='cuda:0', grad_fn=<AddBackward0>) tensor(13362.8945, device='cuda:0', grad_fn=<AddBackward0>) tensor(13362.8945, device='cuda:0', grad_fn=<AddBackward0>)\n",
      "tensor(13.8964, device='cuda:0', grad_fn=<AddBackward0>) tensor(13385.9785, device='cuda:0', grad_fn=<AddBackward0>) tensor(13385.9785, device='cuda:0', grad_fn=<AddBackward0>)\n",
      "tensor(13.8913, device='cuda:0', grad_fn=<AddBackward0>) tensor(13170.1865, device='cuda:0', grad_fn=<AddBackward0>) tensor(13170.1865, device='cuda:0', grad_fn=<AddBackward0>)\n",
      "tensor(13.9058, device='cuda:0', grad_fn=<AddBackward0>) tensor(13202.6406, device='cuda:0', grad_fn=<AddBackward0>) tensor(13202.6406, device='cuda:0', grad_fn=<AddBackward0>)\n",
      "tensor(13.9071, device='cuda:0', grad_fn=<AddBackward0>) tensor(13171.7061, device='cuda:0', grad_fn=<AddBackward0>) tensor(13171.7061, device='cuda:0', grad_fn=<AddBackward0>)\n",
      "tensor(13.9083, device='cuda:0', grad_fn=<AddBackward0>) tensor(13552.6777, device='cuda:0', grad_fn=<AddBackward0>) tensor(13552.6777, device='cuda:0', grad_fn=<AddBackward0>)\n",
      "tensor(13.8975, device='cuda:0', grad_fn=<AddBackward0>) tensor(13104.7861, device='cuda:0', grad_fn=<AddBackward0>) tensor(13104.7861, device='cuda:0', grad_fn=<AddBackward0>)\n"
     ]
    },
    {
     "name": "stdout",
     "output_type": "stream",
     "text": [
      "tensor(13.9035, device='cuda:0', grad_fn=<AddBackward0>) tensor(13157.7441, device='cuda:0', grad_fn=<AddBackward0>) tensor(13157.7441, device='cuda:0', grad_fn=<AddBackward0>)\n",
      "tensor(13.9069, device='cuda:0', grad_fn=<AddBackward0>) tensor(13065.6758, device='cuda:0', grad_fn=<AddBackward0>) tensor(13065.6758, device='cuda:0', grad_fn=<AddBackward0>)\n",
      "tensor(13.9054, device='cuda:0', grad_fn=<AddBackward0>) tensor(13054.1309, device='cuda:0', grad_fn=<AddBackward0>) tensor(13054.1309, device='cuda:0', grad_fn=<AddBackward0>)\n",
      "tensor(13.9108, device='cuda:0', grad_fn=<AddBackward0>) tensor(13045.5000, device='cuda:0', grad_fn=<AddBackward0>) tensor(13045.5000, device='cuda:0', grad_fn=<AddBackward0>)\n",
      "tensor(13.9270, device='cuda:0', grad_fn=<AddBackward0>) tensor(13122.1250, device='cuda:0', grad_fn=<AddBackward0>) tensor(13122.1250, device='cuda:0', grad_fn=<AddBackward0>)\n",
      "tensor(13.9140, device='cuda:0', grad_fn=<AddBackward0>) tensor(13021.7207, device='cuda:0', grad_fn=<AddBackward0>) tensor(13021.7207, device='cuda:0', grad_fn=<AddBackward0>)\n",
      "tensor(13.9142, device='cuda:0', grad_fn=<AddBackward0>) tensor(13006.6602, device='cuda:0', grad_fn=<AddBackward0>) tensor(13006.6602, device='cuda:0', grad_fn=<AddBackward0>)\n",
      "tensor(13.9109, device='cuda:0', grad_fn=<AddBackward0>) tensor(12974.4258, device='cuda:0', grad_fn=<AddBackward0>) tensor(12974.4258, device='cuda:0', grad_fn=<AddBackward0>)\n",
      "tensor(13.9078, device='cuda:0', grad_fn=<AddBackward0>) tensor(13029.8613, device='cuda:0', grad_fn=<AddBackward0>) tensor(13029.8613, device='cuda:0', grad_fn=<AddBackward0>)\n"
     ]
    }
   ],
   "source": [
    "for step in range(total_steps):\n",
    "    \n",
    "    content_loss = 0\n",
    "    style_loss = 0\n",
    "    \n",
    "    generated_features = Model(generated)\n",
    "    content_features = Model(content_image)\n",
    "    style_features = Model(style_image)\n",
    "    \n",
    "    for gen_feature,content_feature,style_feature in zip(generated_features,content_features,style_features):\n",
    "        batch_size,channel,height,width = gen_feature.shape\n",
    "        \n",
    "        # 先计算content loss\n",
    "        content_loss += torch.mean((gen_feature-content_feature)**2)\n",
    "        \n",
    "        \n",
    "        # 后计算style loss 用gram矩阵\n",
    "        G = gen_feature.view(channel,height*width).mm(gen_feature.view(channel,height*width).t())\n",
    "        S = style_feature.view(channel,height*width).mm(style_feature.view(channel,height*width).t())\n",
    "        style_loss += torch.mean((G-S)**2)\n",
    "        \n",
    "    total_loss = alpha*content_loss+bate*style_loss\n",
    "    \n",
    "    optimizer.zero_grad()\n",
    "    total_loss.backward()\n",
    "    optimizer.step()\n",
    "    \n",
    "    if step % 200 == 0:\n",
    "        print(content_loss,style_loss,total_loss)\n",
    "        save_image(generated,\"face\" + f\"/gen_{step}.png\")"
   ]
  }
 ],
 "metadata": {
  "kernelspec": {
   "display_name": "Python 3 (ipykernel)",
   "language": "python",
   "name": "python3"
  },
  "language_info": {
   "codemirror_mode": {
    "name": "ipython",
    "version": 3
   },
   "file_extension": ".py",
   "mimetype": "text/x-python",
   "name": "python",
   "nbconvert_exporter": "python",
   "pygments_lexer": "ipython3",
   "version": "3.8.0"
  }
 },
 "nbformat": 4,
 "nbformat_minor": 5
}
