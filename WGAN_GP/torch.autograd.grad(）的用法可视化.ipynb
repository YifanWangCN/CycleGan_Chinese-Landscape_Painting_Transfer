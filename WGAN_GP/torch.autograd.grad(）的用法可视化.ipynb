{
 "cells": [
  {
   "cell_type": "code",
   "execution_count": 1,
   "id": "7708b71a",
   "metadata": {},
   "outputs": [],
   "source": [
    "import torch\n",
    "import torch.nn as nn"
   ]
  },
  {
   "cell_type": "markdown",
   "id": "a491dfaa",
   "metadata": {},
   "source": [
    "### 主要是了解 torch.autograd.grad()的用法\n",
    "\n",
    "该函数的用法主要针对，想对输入的变量求导，而不是对参数求导时使用。\n",
    "\n",
    "在WGAN-GP中，网络对输入变量进行了求导\n",
    "\n",
    "该函数的主要参数为\n",
    "\n",
    "inputs：求导的自变量\n",
    "\n",
    "outputs：求导的应变量，对该输出求导\n",
    "\n",
    "grad_outputs: 如果outputs是向量，则参数必须写，维度与outputs一致\n",
    "\n",
    "retain_graph：True时保留计算图\n",
    "\n",
    "create_Graphy: 若要计算高阶导数，则必须选为True"
   ]
  },
  {
   "cell_type": "code",
   "execution_count": 2,
   "id": "152ba825",
   "metadata": {},
   "outputs": [
    {
     "name": "stdout",
     "output_type": "stream",
     "text": [
      "tensor([[[[0.0594, 0.1374, 0.2562, 0.0605],\n",
      "          [0.2857, 0.9990, 0.7119, 0.2000],\n",
      "          [0.2245, 0.6800, 0.1529, 0.4505],\n",
      "          [0.2681, 0.0397, 0.0845, 0.8931]],\n",
      "\n",
      "         [[0.8909, 0.6075, 0.9493, 0.4461],\n",
      "          [0.8516, 0.5412, 0.6034, 0.7535],\n",
      "          [0.8104, 0.4584, 0.9099, 0.4038],\n",
      "          [0.8895, 0.6591, 0.0498, 0.7954]],\n",
      "\n",
      "         [[0.3116, 0.4833, 0.3774, 0.4172],\n",
      "          [0.1621, 0.0293, 0.1573, 0.5184],\n",
      "          [0.4895, 0.7476, 0.2420, 0.4399],\n",
      "          [0.9677, 0.7015, 0.9975, 0.2640]]]], requires_grad=True)\n"
     ]
    }
   ],
   "source": [
    "x = torch.rand(1,3,4,4)\n",
    "x.requires_grad_()\n",
    "print(x)"
   ]
  },
  {
   "cell_type": "code",
   "execution_count": 3,
   "id": "3b5647f1",
   "metadata": {},
   "outputs": [
    {
     "name": "stdout",
     "output_type": "stream",
     "text": [
      "tensor([[[[1.4112e-02, 7.5542e-02, 2.6263e-01, 1.4654e-02],\n",
      "          [3.2649e-01, 3.9921e+00, 2.0274e+00, 1.5998e-01],\n",
      "          [2.0155e-01, 1.8495e+00, 9.3559e-02, 8.1186e-01],\n",
      "          [2.8756e-01, 6.3108e-03, 2.8579e-02, 3.1908e+00]],\n",
      "\n",
      "         [[3.1749e+00, 1.4762e+00, 3.6045e+00, 7.9617e-01],\n",
      "          [2.9007e+00, 1.1717e+00, 1.4562e+00, 2.2713e+00],\n",
      "          [2.6273e+00, 8.4044e-01, 3.3119e+00, 6.5208e-01],\n",
      "          [3.1645e+00, 1.7378e+00, 9.9356e-03, 2.5308e+00]],\n",
      "\n",
      "         [[3.8844e-01, 9.3414e-01, 5.6980e-01, 6.9622e-01],\n",
      "          [1.0510e-01, 3.4387e-03, 9.8998e-02, 1.0750e+00],\n",
      "          [9.5842e-01, 2.2357e+00, 2.3428e-01, 7.7389e-01],\n",
      "          [3.7460e+00, 1.9686e+00, 3.9804e+00, 2.7868e-01]]]],\n",
      "       grad_fn=<MulBackward0>)\n"
     ]
    }
   ],
   "source": [
    "y = 4*x**2   # 对x求导 y = 8x\n",
    "print(y)"
   ]
  },
  {
   "cell_type": "code",
   "execution_count": 4,
   "id": "cb33e9e7",
   "metadata": {},
   "outputs": [
    {
     "name": "stdout",
     "output_type": "stream",
     "text": [
      "tensor([[[[0.4752, 1.0994, 2.0499, 0.4842],\n",
      "          [2.2856, 7.9921, 5.6954, 1.5999],\n",
      "          [1.7958, 5.4399, 1.2235, 3.6041],\n",
      "          [2.1450, 0.3178, 0.6762, 7.1452]],\n",
      "\n",
      "         [[7.1273, 4.8600, 7.5942, 3.5691],\n",
      "          [6.8126, 4.3299, 4.8269, 6.0283],\n",
      "          [6.4836, 3.6670, 7.2794, 3.2301],\n",
      "          [7.1156, 5.2730, 0.3987, 6.3634]],\n",
      "\n",
      "         [[2.4930, 3.8660, 3.0194, 3.3376],\n",
      "          [1.2968, 0.2346, 1.2586, 4.1473],\n",
      "          [3.9160, 5.9809, 1.9361, 3.5188],\n",
      "          [7.7419, 5.6123, 7.9804, 2.1116]]]], grad_fn=<MulBackward0>)\n"
     ]
    }
   ],
   "source": [
    "grad = torch.autograd.grad(inputs=x, outputs=y, grad_outputs=torch.ones_like(y),create_graph=True)[0]\n",
    "print(grad)"
   ]
  },
  {
   "cell_type": "markdown",
   "id": "f964bd40",
   "metadata": {},
   "source": [
    "### 从上面看整个求导还是很直观的"
   ]
  },
  {
   "cell_type": "code",
   "execution_count": 6,
   "id": "09cb22f5",
   "metadata": {},
   "outputs": [
    {
     "name": "stdout",
     "output_type": "stream",
     "text": [
      "torch.Size([1, 3, 4, 4])\n"
     ]
    }
   ],
   "source": [
    "print(grad.shape)"
   ]
  },
  {
   "cell_type": "markdown",
   "id": "54a73121",
   "metadata": {},
   "source": [
    "### 看一下pytorch中view的用法"
   ]
  },
  {
   "cell_type": "code",
   "execution_count": 31,
   "id": "fcd43d6f",
   "metadata": {},
   "outputs": [
    {
     "name": "stdout",
     "output_type": "stream",
     "text": [
      "torch.Size([16, 1, 1, 1])\n"
     ]
    }
   ],
   "source": [
    "batch = torch.rand((16,1,1,1))\n",
    "print(batch.shape)"
   ]
  },
  {
   "cell_type": "code",
   "execution_count": 41,
   "id": "a9031f69",
   "metadata": {},
   "outputs": [
    {
     "name": "stdout",
     "output_type": "stream",
     "text": [
      "16\n",
      "tensor([[0.8858],\n",
      "        [0.6395],\n",
      "        [0.6865],\n",
      "        [0.7583],\n",
      "        [0.4189],\n",
      "        [0.1305],\n",
      "        [0.4896],\n",
      "        [0.2876],\n",
      "        [0.1015],\n",
      "        [0.5248],\n",
      "        [0.8505],\n",
      "        [0.7853],\n",
      "        [0.9922],\n",
      "        [0.2488],\n",
      "        [0.2364],\n",
      "        [0.5840]])\n"
     ]
    }
   ],
   "source": [
    "batch = batch.view(16,-1)\n",
    "print(batch.shape[0])\n",
    "print(batch)"
   ]
  },
  {
   "cell_type": "code",
   "execution_count": 29,
   "id": "d9c72d2b",
   "metadata": {},
   "outputs": [
    {
     "name": "stdout",
     "output_type": "stream",
     "text": [
      "torch.Size([1, 2, 3])\n",
      "tensor([[[1., 2., 3.],\n",
      "         [4., 5., 6.]]])\n"
     ]
    }
   ],
   "source": [
    "a=torch.Tensor([[[1,2,3],[4,5,6]]])\n",
    "print(a.shape)\n",
    "print(a)"
   ]
  },
  {
   "cell_type": "code",
   "execution_count": 30,
   "id": "5ba1b5c1",
   "metadata": {},
   "outputs": [
    {
     "name": "stdout",
     "output_type": "stream",
     "text": [
      "torch.Size([1, 6])\n",
      "tensor([[1., 2., 3., 4., 5., 6.]])\n"
     ]
    }
   ],
   "source": [
    "a=a.view(1,-1)\n",
    "print(a.shape)\n",
    "print(a)"
   ]
  },
  {
   "cell_type": "markdown",
   "id": "c24d70a1",
   "metadata": {},
   "source": [
    "### 下面是L2正则化的可视化\n"
   ]
  },
  {
   "cell_type": "code",
   "execution_count": 39,
   "id": "abf75182",
   "metadata": {},
   "outputs": [
    {
     "name": "stdout",
     "output_type": "stream",
     "text": [
      "tensor([[2.4133]])\n"
     ]
    }
   ],
   "source": [
    "norm = torch.norm(input=batch,p=2,dim=0,keepdim=True)\n",
    "print(norm)"
   ]
  },
  {
   "cell_type": "code",
   "execution_count": 40,
   "id": "d857fbb5",
   "metadata": {},
   "outputs": [
    {
     "name": "stdout",
     "output_type": "stream",
     "text": [
      "tensor(1.9973)\n"
     ]
    }
   ],
   "source": [
    "p = torch.mean((norm - 1) ** 2)\n",
    "print(p)"
   ]
  }
 ],
 "metadata": {
  "kernelspec": {
   "display_name": "Python 3 (ipykernel)",
   "language": "python",
   "name": "python3"
  },
  "language_info": {
   "codemirror_mode": {
    "name": "ipython",
    "version": 3
   },
   "file_extension": ".py",
   "mimetype": "text/x-python",
   "name": "python",
   "nbconvert_exporter": "python",
   "pygments_lexer": "ipython3",
   "version": "3.8.0"
  }
 },
 "nbformat": 4,
 "nbformat_minor": 5
}
